{
  "cells": [
    {
      "cell_type": "markdown",
      "metadata": {},
      "source": [
        "# Handwritten Character Recognition"
      ]
    },
    {
      "cell_type": "markdown",
      "metadata": {},
      "source": [
        "# TensorFlow Metal Setup"
      ]
    },
    {
      "cell_type": "code",
      "execution_count": 2,
      "metadata": {},
      "outputs": [
        {
          "name": "stdout",
          "output_type": "stream",
          "text": [
            "TensorFlow has access to the following devices:\n",
            "[PhysicalDevice(name='/physical_device:CPU:0', device_type='CPU'), PhysicalDevice(name='/physical_device:GPU:0', device_type='GPU')]\n",
            "TensorFlow version: 2.13.0\n"
          ]
        }
      ],
      "source": [
        "import tensorflow as tf\n",
        "\n",
        "# Check for TensorFlow GPU access\n",
        "print(f\"TensorFlow has access to the following devices:\\n{tf.config.list_physical_devices()}\")\n",
        "\n",
        "# See TensorFlow version\n",
        "print(f\"TensorFlow version: {tf.__version__}\")"
      ]
    },
    {
      "cell_type": "markdown",
      "metadata": {},
      "source": [
        "# Importing Req Libraries"
      ]
    },
    {
      "cell_type": "code",
      "execution_count": 3,
      "metadata": {
        "id": "OoHe-HtTYz5y"
      },
      "outputs": [],
      "source": [
        "import numpy as np\n",
        "import pandas as pd\n",
        "import matplotlib.pyplot as plt\n",
        "import seaborn as sns\n",
        "import tensorflow as tf\n",
        "from tensorflow.keras.models import Sequential\n",
        "from tensorflow.keras.layers import Dense, Conv2D, MaxPooling2D, Flatten, Dropout, BatchNormalization\n",
        "from tensorflow.keras.preprocessing.image import ImageDataGenerator\n",
        "from tensorflow.keras.callbacks import EarlyStopping, ModelCheckpoint, ReduceLROnPlateau\n",
        "from tensorflow.keras.utils import to_categorical\n",
        "from sklearn.model_selection import train_test_split\n",
        "from sklearn.metrics import classification_report, confusion_matrix\n",
        "import random\n"
      ]
    },
    {
      "cell_type": "markdown",
      "metadata": {},
      "source": [
        "# Data Preparation"
      ]
    },
    {
      "cell_type": "code",
      "execution_count": 4,
      "metadata": {
        "id": "FmP4HGSeYz52"
      },
      "outputs": [
        {
          "name": "stdout",
          "output_type": "stream",
          "text": [
            "Training data shape: (297960, 28, 28, 1)\n",
            "Testing data shape: (74490, 28, 28, 1)\n",
            "Training labels shape: (297960, 26)\n",
            "Testing labels shape: (74490, 26)\n"
          ]
        }
      ],
      "source": [
        "data = pd.read_csv('/Volumes/Personal/ML_Code Alpha/Handwritten-Character-Recognition/A-Z handwritten characters/A_Z Handwritten Data.csv').astype('float32')\n",
        "X = data.drop('0', axis=1).values\n",
        "y = data['0'].values\n",
        "\n",
        "X = X.reshape(X.shape[0], 28, 28, 1) / 255.0\n",
        "y = to_categorical(y, num_classes=26)\n",
        "\n",
        "X_train, X_test, y_train, y_test = train_test_split(X, y, test_size=0.2, random_state=42)\n",
        "\n",
        "\n",
        "print(f\"Training data shape: {X_train.shape}\")\n",
        "print(f\"Testing data shape: {X_test.shape}\")\n",
        "print(f\"Training labels shape: {y_train.shape}\")\n",
        "print(f\"Testing labels shape: {y_test.shape}\")"
      ]
    },
    {
      "cell_type": "markdown",
      "metadata": {},
      "source": [
        "# Sample Data Visualization "
      ]
    },
    {
      "cell_type": "code",
      "execution_count": 5,
      "metadata": {
        "colab": {
          "base_uri": "https://localhost:8080/",
          "height": 192
        },
        "id": "O7JUURXOYz53",
        "outputId": "ee860b24-58dd-4eaa-be5a-3d1ae6a761b2"
      },
      "outputs": [
        {
          "data": {
            "image/png": "[encoded data removed]",
            "text/plain": [
              "<Figure size 1000x200 with 5 Axes>"
            ]
          },
          "metadata": {},
          "output_type": "display_data"
        }
      ],
      "source": [
        "def visualize_data(X, y, num_samples=5):\n",
        "    plt.figure(figsize=(10, 2))\n",
        "    for i in range(num_samples):\n",
        "        plt.subplot(1, num_samples, i + 1)\n",
        "        plt.imshow(X[i].reshape(28, 28), cmap='gray')\n",
        "        plt.title(f\"Label: {chr(np.argmax(y[i]) + ord('A'))}\")\n",
        "        plt.axis('off')\n",
        "    plt.show()\n",
        "\n",
        "visualize_data(X_train, y_train)\n"
      ]
    },
    {
      "cell_type": "markdown",
      "metadata": {},
      "source": [
        "# Data Augmentation"
      ]
    },
    {
      "cell_type": "code",
      "execution_count": 6,
      "metadata": {
        "id": "XeBEYF3NYz53"
      },
      "outputs": [],
      "source": [
        "datagen = ImageDataGenerator(\n",
        "    rotation_range=10,\n",
        "    zoom_range=0.1,\n",
        "    width_shift_range=0.1,\n",
        "    height_shift_range=0.1\n",
        ")\n",
        "datagen.fit(X_train)\n"
      ]
    },
    {
      "cell_type": "markdown",
      "metadata": {},
      "source": [
        "#  Model Architecture"
      ]
    },
    {
      "cell_type": "code",
      "execution_count": 7,
      "metadata": {
        "id": "HEkki2Y2ZkBo"
      },
      "outputs": [
        {
          "name": "stderr",
          "output_type": "stream",
          "text": [
            "2024-08-26 23:29:46.280599: I metal_plugin/src/device/metal_device.cc:1154] Metal device set to: Apple M3 Pro\n",
            "2024-08-26 23:29:46.280622: I metal_plugin/src/device/metal_device.cc:296] systemMemory: 18.00 GB\n",
            "2024-08-26 23:29:46.280630: I metal_plugin/src/device/metal_device.cc:313] maxCacheSize: 6.00 GB\n",
            "2024-08-26 23:29:46.280947: I tensorflow/core/common_runtime/pluggable_device/pluggable_device_factory.cc:303] Could not identify NUMA node of platform GPU ID 0, defaulting to 0. Your kernel may not have been built with NUMA support.\n",
            "2024-08-26 23:29:46.280966: I tensorflow/core/common_runtime/pluggable_device/pluggable_device_factory.cc:269] Created TensorFlow device (/job:localhost/replica:0/task:0/device:GPU:0 with 0 MB memory) -> physical PluggableDevice (device: 0, name: METAL, pci bus id: <undefined>)\n"
          ]
        }
      ],
      "source": [
        "model = Sequential([\n",
        "    Conv2D(32, kernel_size=(3, 3), activation='relu', input_shape=(28, 28, 1)),\n",
        "    BatchNormalization(),\n",
        "    MaxPooling2D(pool_size=(2, 2)),\n",
        "    Dropout(0.2),\n",
        "\n",
        "    Conv2D(64, kernel_size=(3, 3), activation='relu'),\n",
        "    BatchNormalization(),\n",
        "    MaxPooling2D(pool_size=(2, 2)),\n",
        "    Dropout(0.2),\n",
        "\n",
        "    Conv2D(128, kernel_size=(3, 3), activation='relu'),\n",
        "    BatchNormalization(),\n",
        "    MaxPooling2D(pool_size=(2, 2)),\n",
        "    Dropout(0.2),\n",
        "\n",
        "    Flatten(),\n",
        "    Dense(128, activation='relu'),\n",
        "    BatchNormalization(),\n",
        "    Dropout(0.5),\n",
        "    Dense(26, activation='softmax')\n",
        "])\n"
      ]
    },
    {
      "cell_type": "markdown",
      "metadata": {},
      "source": [
        "# Model Compilation and Training"
      ]
    },
    {
      "cell_type": "code",
      "execution_count": 8,
      "metadata": {
        "colab": {
          "base_uri": "https://localhost:8080/"
        },
        "id": "3-NaS5JyZlyJ",
        "outputId": "fa1bd9e4-3a19-48df-aa2d-455735459508"
      },
      "outputs": [
        {
          "name": "stdout",
          "output_type": "stream",
          "text": [
            "Epoch 1/20\n"
          ]
        },
        {
          "name": "stderr",
          "output_type": "stream",
          "text": [
            "2024-08-26 23:29:46.777356: I tensorflow/core/grappler/optimizers/custom_graph_optimizer_registry.cc:114] Plugin optimizer for device_type GPU is enabled.\n"
          ]
        },
        {
          "name": "stdout",
          "output_type": "stream",
          "text": [
            "4653/4656 [============================>.] - ETA: 0s - loss: 0.5239 - accuracy: 0.8465"
          ]
        },
        {
          "name": "stderr",
          "output_type": "stream",
          "text": [
            "2024-08-26 23:30:48.757636: I tensorflow/core/grappler/optimizers/custom_graph_optimizer_registry.cc:114] Plugin optimizer for device_type GPU is enabled.\n"
          ]
        },
        {
          "name": "stdout",
          "output_type": "stream",
          "text": [
            "4656/4656 [==============================] - 78s 17ms/step - loss: 0.5237 - accuracy: 0.8466 - val_loss: 0.1401 - val_accuracy: 0.9575 - lr: 0.0010\n",
            "Epoch 2/20\n",
            "   8/4656 [..............................] - ETA: 1:17 - loss: 0.3119 - accuracy: 0.9199"
          ]
        },
        {
          "name": "stderr",
          "output_type": "stream",
          "text": [
            "/Users/chintubharath/tensorflow-metal/env/lib/python3.8/site-packages/keras/src/engine/training.py:3000: UserWarning: You are saving your model as an HDF5 file via `model.save()`. This file format is considered legacy. We recommend using instead the native Keras format, e.g. `model.save('my_model.keras')`.\n",
            "  saving_api.save_model(\n"
          ]
        },
        {
          "name": "stdout",
          "output_type": "stream",
          "text": [
            "4656/4656 [==============================] - 89s 19ms/step - loss: 0.2735 - accuracy: 0.9193 - val_loss: 0.1155 - val_accuracy: 0.9656 - lr: 0.0010\n",
            "Epoch 3/20\n",
            "4656/4656 [==============================] - 88s 19ms/step - loss: 0.2385 - accuracy: 0.9298 - val_loss: 0.0875 - val_accuracy: 0.9754 - lr: 0.0010\n",
            "Epoch 4/20\n",
            "4656/4656 [==============================] - 87s 19ms/step - loss: 0.2207 - accuracy: 0.9344 - val_loss: 0.0850 - val_accuracy: 0.9767 - lr: 0.0010\n",
            "Epoch 5/20\n",
            "4656/4656 [==============================] - 90s 19ms/step - loss: 0.2086 - accuracy: 0.9389 - val_loss: 0.0818 - val_accuracy: 0.9764 - lr: 0.0010\n",
            "Epoch 6/20\n",
            "4656/4656 [==============================] - 86s 19ms/step - loss: 0.2035 - accuracy: 0.9403 - val_loss: 0.0804 - val_accuracy: 0.9772 - lr: 0.0010\n",
            "Epoch 7/20\n",
            "4656/4656 [==============================] - 86s 19ms/step - loss: 0.1939 - accuracy: 0.9432 - val_loss: 0.0779 - val_accuracy: 0.9783 - lr: 0.0010\n",
            "Epoch 8/20\n",
            "4656/4656 [==============================] - 87s 19ms/step - loss: 0.1882 - accuracy: 0.9445 - val_loss: 0.0757 - val_accuracy: 0.9796 - lr: 0.0010\n",
            "Epoch 9/20\n",
            "4656/4656 [==============================] - 86s 18ms/step - loss: 0.1874 - accuracy: 0.9450 - val_loss: 0.0772 - val_accuracy: 0.9786 - lr: 0.0010\n",
            "Epoch 10/20\n",
            "4656/4656 [==============================] - 86s 19ms/step - loss: 0.1834 - accuracy: 0.9465 - val_loss: 0.0721 - val_accuracy: 0.9801 - lr: 0.0010\n",
            "Epoch 11/20\n",
            "4656/4656 [==============================] - 86s 19ms/step - loss: 0.1778 - accuracy: 0.9479 - val_loss: 0.0707 - val_accuracy: 0.9804 - lr: 0.0010\n",
            "Epoch 12/20\n",
            "4656/4656 [==============================] - 86s 18ms/step - loss: 0.1768 - accuracy: 0.9483 - val_loss: 0.0724 - val_accuracy: 0.9799 - lr: 0.0010\n",
            "Epoch 13/20\n",
            "4656/4656 [==============================] - 86s 18ms/step - loss: 0.1753 - accuracy: 0.9490 - val_loss: 0.0680 - val_accuracy: 0.9813 - lr: 0.0010\n",
            "Epoch 14/20\n",
            "4656/4656 [==============================] - 86s 18ms/step - loss: 0.1731 - accuracy: 0.9497 - val_loss: 0.0684 - val_accuracy: 0.9809 - lr: 0.0010\n",
            "Epoch 15/20\n",
            "4656/4656 [==============================] - 86s 18ms/step - loss: 0.1704 - accuracy: 0.9506 - val_loss: 0.0705 - val_accuracy: 0.9801 - lr: 0.0010\n",
            "Epoch 16/20\n",
            "4656/4656 [==============================] - 86s 19ms/step - loss: 0.1689 - accuracy: 0.9503 - val_loss: 0.0693 - val_accuracy: 0.9809 - lr: 0.0010\n",
            "Epoch 17/20\n",
            "4656/4656 [==============================] - 86s 19ms/step - loss: 0.1671 - accuracy: 0.9514 - val_loss: 0.0701 - val_accuracy: 0.9804 - lr: 0.0010\n",
            "Epoch 18/20\n",
            "4656/4656 [==============================] - 86s 19ms/step - loss: 0.1640 - accuracy: 0.9522 - val_loss: 0.0671 - val_accuracy: 0.9813 - lr: 0.0010\n",
            "Epoch 19/20\n",
            "4656/4656 [==============================] - 86s 19ms/step - loss: 0.1646 - accuracy: 0.9516 - val_loss: 0.0653 - val_accuracy: 0.9820 - lr: 0.0010\n",
            "Epoch 20/20\n",
            "4656/4656 [==============================] - 85s 18ms/step - loss: 0.1642 - accuracy: 0.9521 - val_loss: 0.0662 - val_accuracy: 0.9817 - lr: 0.0010\n"
          ]
        }
      ],
      "source": [
        "model.compile(optimizer='adam', loss='categorical_crossentropy', metrics=['accuracy'])\n",
        "\n",
        "early_stopping = EarlyStopping(monitor='val_loss', patience=10, restore_best_weights=True)\n",
        "checkpoint = ModelCheckpoint('/Volumes/Personal/ML_Code Alpha/Handwritten-Character-Recognition/best_model.h5', monitor='val_accuracy', save_best_only=True)\n",
        "reduce_lr = ReduceLROnPlateau(monitor='val_loss', factor=0.2, patience=5, min_lr=0.0001)\n",
        "\n",
        "history = model.fit(datagen.flow(X_train, y_train, batch_size=64),\n",
        "                    epochs=20,\n",
        "                    validation_data=(X_test, y_test),\n",
        "                    callbacks=[early_stopping, checkpoint, reduce_lr])\n"
      ]
    },
    {
      "cell_type": "code",
      "execution_count": 9,
      "metadata": {
        "colab": {
          "base_uri": "https://localhost:8080/"
        },
        "id": "GUYJFomAZn-h",
        "outputId": "6560b5a3-e2d6-4602-fb11-26f0f945fbbf"
      },
      "outputs": [],
      "source": [
        "model.save('model.h5')"
      ]
    },
    {
      "cell_type": "markdown",
      "metadata": {},
      "source": [
        "# Evaluation and Visualization"
      ]
    },
    {
      "cell_type": "code",
      "execution_count": 14,
      "metadata": {
        "colab": {
          "base_uri": "https://localhost:8080/",
          "height": 1000
        },
        "id": "RdIyNoTrc6tg",
        "outputId": "36672ed7-c190-426b-e0c4-c15e1516997c"
      },
      "outputs": [
        {
          "name": "stderr",
          "output_type": "stream",
          "text": [
            "2024-08-26 23:59:22.095260: I tensorflow/core/grappler/optimizers/custom_graph_optimizer_registry.cc:114] Plugin optimizer for device_type GPU is enabled.\n"
          ]
        },
        {
          "name": "stdout",
          "output_type": "stream",
          "text": [
            "2328/2328 [==============================] - 4s 2ms/step\n"
          ]
        },
        {
          "data": {
            "image/png": "[encoded data removed]",
            "text/plain": [
              "<Figure size 1200x400 with 2 Axes>"
            ]
          },
          "metadata": {},
          "output_type": "display_data"
        },
        {
          "name": "stdout",
          "output_type": "stream",
          "text": [
            "Test Accuracy: 0.9819707274436951\n",
            "\n",
            "Classification Report:\n",
            "               precision    recall  f1-score   support\n",
            "\n",
            "           0       0.99      0.98      0.99      2806\n",
            "           1       0.98      0.97      0.97      1673\n",
            "           2       0.98      0.99      0.98      4742\n",
            "           3       0.96      0.91      0.94      2044\n",
            "           4       0.97      0.98      0.98      2214\n",
            "           5       0.93      0.87      0.90       231\n",
            "           6       0.99      0.96      0.97      1183\n",
            "           7       0.97      0.95      0.96      1466\n",
            "           8       0.98      0.83      0.90       237\n",
            "           9       0.98      0.96      0.97      1668\n",
            "          10       0.98      0.98      0.98      1132\n",
            "          11       0.99      0.98      0.98      2319\n",
            "          12       0.98      0.99      0.98      2487\n",
            "          13       0.98      0.99      0.98      3756\n",
            "          14       0.98      0.99      0.99     11629\n",
            "          15       0.98      0.99      0.98      3868\n",
            "          16       0.97      0.97      0.97      1159\n",
            "          17       0.98      0.97      0.97      2296\n",
            "          18       1.00      1.00      1.00      9556\n",
            "          19       0.98      1.00      0.99      4447\n",
            "          20       0.98      0.99      0.99      5860\n",
            "          21       0.97      1.00      0.99       823\n",
            "          22       0.99      0.97      0.98      2198\n",
            "          23       0.98      0.98      0.98      1269\n",
            "          24       0.98      0.98      0.98      2202\n",
            "          25       0.99      1.00      0.99      1225\n",
            "\n",
            "    accuracy                           0.98     74490\n",
            "   macro avg       0.98      0.97      0.97     74490\n",
            "weighted avg       0.98      0.98      0.98     74490\n",
            "\n"
          ]
        }
      ],
      "source": [
        "model.load_weights('/Volumes/Personal/ML_Code Alpha/Handwritten-Character-Recognition/best_model.h5')\n",
        "test_loss, test_accuracy = model.evaluate(X_test, y_test, verbose=0)\n",
        "\n",
        "y_pred = model.predict(X_test)\n",
        "y_pred_classes = np.argmax(y_pred, axis=1)\n",
        "y_true = np.argmax(y_test, axis=1)\n",
        "\n",
        "classification_rep = classification_report(y_true, y_pred_classes)\n",
        "conf_matrix = confusion_matrix(y_true, y_pred_classes)\n",
        "\n",
        "plt.figure(figsize=(12, 4))\n",
        "plt.subplot(1, 2, 1)\n",
        "plt.plot(history.history['accuracy'])\n",
        "plt.plot(history.history['val_accuracy'])\n",
        "plt.title('Model Accuracy')\n",
        "plt.ylabel('Accuracy')\n",
        "plt.xlabel('Epoch')\n",
        "plt.legend(['Train', 'Validation'], loc='upper left')\n",
        "\n",
        "plt.subplot(1, 2, 2)\n",
        "plt.plot(history.history['loss'])\n",
        "plt.plot(history.history['val_loss'])\n",
        "plt.title('Model Loss')\n",
        "plt.ylabel('Loss')\n",
        "plt.xlabel('Epoch')\n",
        "plt.legend(['Train', 'Validation'], loc='upper left')\n",
        "\n",
        "plt.tight_layout()\n",
        "plt.show()\n",
        "\n",
        "print(f\"Test Accuracy: {test_accuracy}\")\n",
        "print(\"\\nClassification Report:\\n\", classification_rep)\n",
        "# print(\"\\nConfusion Matrix:\\n\", conf_matrix)\n",
        "\n",
        "# Plot Confusion Matrix\n",
        "# plt.figure(figsize=(10, 7))\n",
        "# sns.heatmap(conf_matrix, annot=True, fmt='d', cmap='Blues', \n",
        "#             xticklabels=[chr(i + ord('A')) for i in range(26)],\n",
        "#             yticklabels=[chr(i + ord('A')) for i in range(26)])\n",
        "# plt.xlabel('Predicted Label')\n",
        "# plt.ylabel('True Label')\n",
        "# plt.title('Confusion Matrix')\n",
        "# plt.show()\n"
      ]
    },
    {
      "cell_type": "markdown",
      "metadata": {},
      "source": [
        "# Test Dataset Prediction"
      ]
    },
    {
      "cell_type": "code",
      "execution_count": 11,
      "metadata": {
        "colab": {
          "base_uri": "https://localhost:8080/",
          "height": 230
        },
        "id": "I9WpUVo-b5Bh",
        "outputId": "b5ccd8c2-9ffc-4bee-9e0d-1c0917ce9191"
      },
      "outputs": [
        {
          "name": "stdout",
          "output_type": "stream",
          "text": [
            "2328/2328 [==============================] - 4s 2ms/step\n"
          ]
        },
        {
          "data": {
            "image/png": "[encoded data removed]",
            "text/plain": [
              "<Figure size 1000x200 with 5 Axes>"
            ]
          },
          "metadata": {},
          "output_type": "display_data"
        }
      ],
      "source": [
        "# Predict on test data and visualize predictions\n",
        "def predict_and_visualize(X, y, model, num_samples=5):\n",
        "    predictions = model.predict(X)\n",
        "    predicted_classes = np.argmax(predictions, axis=1)\n",
        "    true_classes = np.argmax(y, axis=1)\n",
        "\n",
        "    plt.figure(figsize=(10, 2))\n",
        "    for i in range(num_samples):\n",
        "        plt.subplot(1, num_samples, i + 1)\n",
        "        plt.imshow(X[i].reshape(28, 28), cmap='gray')\n",
        "        plt.title(f\"Pred: {chr(predicted_classes[i] + ord('A'))}\\nTrue: {chr(true_classes[i] + ord('A'))}\")\n",
        "        plt.axis('off')\n",
        "    plt.show()\n",
        "\n",
        "# Predict and visualize the results\n",
        "predict_and_visualize(X_test, y_test, model)"
      ]
    },
    {
      "cell_type": "markdown",
      "metadata": {},
      "source": [
        "# Prediction with Model"
      ]
    },
    {
      "cell_type": "code",
      "execution_count": 12,
      "metadata": {},
      "outputs": [
        {
          "data": {
            "image/png": "[encoded data removed]",
            "text/plain": [
              "<Figure size 640x480 with 1 Axes>"
            ]
          },
          "metadata": {},
          "output_type": "display_data"
        },
        {
          "name": "stdout",
          "output_type": "stream",
          "text": [
            "1/1 [==============================] - 0s 106ms/step\n",
            "Predicted Label: W\n"
          ]
        },
        {
          "name": "stderr",
          "output_type": "stream",
          "text": [
            "2024-08-26 23:59:05.885444: I tensorflow/core/grappler/optimizers/custom_graph_optimizer_registry.cc:114] Plugin optimizer for device_type GPU is enabled.\n"
          ]
        }
      ],
      "source": [
        "import numpy as np\n",
        "import matplotlib.pyplot as plt\n",
        "import tensorflow as tf\n",
        "\n",
        "\n",
        "model = tf.keras.models.load_model('model.h5')\n",
        "\n",
        "\n",
        "data = pd.read_csv('/Volumes/Personal/ML_Code Alpha/Handwritten-Character-Recognition/A-Z handwritten characters/A_Z Handwritten Data.csv').astype('float32')\n",
        "X = data.drop('0', axis=1).values\n",
        "y = data['0'].values\n",
        "\n",
        "X = X.reshape(X.shape[0], 28, 28, 1) / 255.0\n",
        "y = to_categorical(y, num_classes=26)\n",
        "\n",
        "\n",
        "index = np.random.randint(0, X.shape[0])\n",
        "sample_image = X[index]\n",
        "sample_label = np.argmax(y[index])\n",
        "\n",
        "\n",
        "plt.imshow(sample_image.reshape(28, 28), cmap='gray')\n",
        "plt.title(f\"True Label: {chr(sample_label + 65)}\")\n",
        "plt.axis('off')\n",
        "plt.show()\n",
        "\n",
        "\n",
        "sample_image_expanded = np.expand_dims(sample_image, axis=0)\n",
        "\n",
        "\n",
        "prediction = model.predict(sample_image_expanded)\n",
        "predicted_label = np.argmax(prediction, axis=1)[0]\n",
        "\n",
        "print(f\"Predicted Label: {chr(predicted_label + 65)}\")\n"
      ]
    },
    {
      "cell_type": "code",
      "execution_count": 13,
      "metadata": {
        "colab": {
          "base_uri": "https://localhost:8080/",
          "height": 463
        },
        "id": "JUXH-uKya0L4",
        "outputId": "0865acac-57f8-4c58-f0e1-24f0a8ab8418"
      },
      "outputs": [
        {
          "data": {
            "image/png": "[encoded data removed]",
            "text/plain": [
              "<Figure size 640x480 with 1 Axes>"
            ]
          },
          "metadata": {},
          "output_type": "display_data"
        },
        {
          "name": "stdout",
          "output_type": "stream",
          "text": [
            "1/1 [==============================] - 0s 83ms/step\n",
            "Predicted Label: S\n"
          ]
        },
        {
          "name": "stderr",
          "output_type": "stream",
          "text": [
            "2024-08-26 23:59:15.291491: I tensorflow/core/grappler/optimizers/custom_graph_optimizer_registry.cc:114] Plugin optimizer for device_type GPU is enabled.\n"
          ]
        }
      ],
      "source": [
        "import numpy as np\n",
        "import matplotlib.pyplot as plt\n",
        "import tensorflow as tf\n",
        "\n",
        "# Load the model\n",
        "model = tf.keras.models.load_model('model.h5')\n",
        "\n",
        "# Load the dataset\n",
        "data = pd.read_csv('/Volumes/Personal/ML_Code Alpha/Handwritten-Character-Recognition/A-Z handwritten characters/A_Z Handwritten Data.csv').astype('float32')\n",
        "X = data.drop('0', axis=1).values\n",
        "y = data['0'].values\n",
        "\n",
        "X = X.reshape(X.shape[0], 28, 28, 1) / 255.0\n",
        "y = to_categorical(y, num_classes=26)\n",
        "\n",
        "\n",
        "index = np.random.randint(0, X.shape[0])\n",
        "sample_image = X[index]\n",
        "sample_label = np.argmax(y[index])\n",
        "\n",
        "# Display the image\n",
        "plt.imshow(sample_image.reshape(28, 28), cmap='gray')\n",
        "plt.title(f\"True Label: {chr(sample_label + 65)}\")\n",
        "plt.axis('off')\n",
        "plt.show()\n",
        "\n",
        "\n",
        "sample_image_expanded = np.expand_dims(sample_image, axis=0)\n",
        "\n",
        "# Predict the label\n",
        "prediction = model.predict(sample_image_expanded)\n",
        "predicted_label = np.argmax(prediction, axis=1)[0]\n",
        "\n",
        "print(f\"Predicted Label: {chr(predicted_label + 65)}\")\n"
      ]
    }
  ],
  "metadata": {
    "accelerator": "GPU",
    "colab": {
      "gpuType": "T4",
      "provenance": []
    },
    "kernelspec": {
      "display_name": "Python 3",
      "name": "python3"
    },
    "language_info": {
      "codemirror_mode": {
        "name": "ipython",
        "version": 3
      },
      "file_extension": ".py",
      "mimetype": "text/x-python",
      "name": "python",
      "nbconvert_exporter": "python",
      "pygments_lexer": "ipython3",
      "version": "3.8.19"
    }
  },
  "nbformat": 4,
  "nbformat_minor": 0
}
