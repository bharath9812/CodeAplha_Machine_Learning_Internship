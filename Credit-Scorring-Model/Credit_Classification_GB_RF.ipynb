{
 "cells": [
  {
   "cell_type": "markdown",
   "metadata": {},
   "source": [
    "# Credit Score Classification"
   ]
  },
  {
   "cell_type": "code",
   "execution_count": 27,
   "metadata": {},
   "outputs": [],
   "source": [
    "import pandas as pd\n",
    "import numpy as np\n",
    "from sklearn.model_selection import train_test_split, GridSearchCV, cross_val_score\n",
    "from sklearn.preprocessing import LabelEncoder, StandardScaler\n",
    "from sklearn.metrics import accuracy_score, classification_report, confusion_matrix\n",
    "from sklearn.ensemble import RandomForestClassifier, GradientBoostingClassifier, VotingClassifier\n",
    "from imblearn.over_sampling import SMOTE\n",
    "import matplotlib.pyplot as plt\n",
    "import seaborn as sns\n",
    "\n",
    "\n",
    "df = pd.read_csv('/Users/chintubharath/Downloads/credit_kaggle/bank.csv', delimiter=';')"
   ]
  },
  {
   "cell_type": "markdown",
   "metadata": {},
   "source": [
    "# Data Preprocessing"
   ]
  },
  {
   "cell_type": "code",
   "execution_count": 28,
   "metadata": {},
   "outputs": [
    {
     "name": "stdout",
     "output_type": "stream",
     "text": [
      "<class 'pandas.core.frame.DataFrame'>\n",
      "RangeIndex: 4521 entries, 0 to 4520\n",
      "Data columns (total 17 columns):\n",
      " #   Column     Non-Null Count  Dtype \n",
      "---  ------     --------------  ----- \n",
      " 0   age        4521 non-null   int64 \n",
      " 1   job        4521 non-null   object\n",
      " 2   marital    4521 non-null   object\n",
      " 3   education  4521 non-null   object\n",
      " 4   default    4521 non-null   object\n",
      " 5   balance    4521 non-null   int64 \n",
      " 6   housing    4521 non-null   object\n",
      " 7   loan       4521 non-null   object\n",
      " 8   contact    4521 non-null   object\n",
      " 9   day        4521 non-null   int64 \n",
      " 10  month      4521 non-null   object\n",
      " 11  duration   4521 non-null   int64 \n",
      " 12  campaign   4521 non-null   int64 \n",
      " 13  pdays      4521 non-null   int64 \n",
      " 14  previous   4521 non-null   int64 \n",
      " 15  poutcome   4521 non-null   object\n",
      " 16  y          4521 non-null   object\n",
      "dtypes: int64(7), object(10)\n",
      "memory usage: 600.6+ KB\n",
      "None\n",
      "               age       balance          day     duration     campaign  \\\n",
      "count  4521.000000   4521.000000  4521.000000  4521.000000  4521.000000   \n",
      "mean     41.170095   1422.657819    15.915284   263.961292     2.793630   \n",
      "std      10.576211   3009.638142     8.247667   259.856633     3.109807   \n",
      "min      19.000000  -3313.000000     1.000000     4.000000     1.000000   \n",
      "25%      33.000000     69.000000     9.000000   104.000000     1.000000   \n",
      "50%      39.000000    444.000000    16.000000   185.000000     2.000000   \n",
      "75%      49.000000   1480.000000    21.000000   329.000000     3.000000   \n",
      "max      87.000000  71188.000000    31.000000  3025.000000    50.000000   \n",
      "\n",
      "             pdays     previous  \n",
      "count  4521.000000  4521.000000  \n",
      "mean     39.766645     0.542579  \n",
      "std     100.121124     1.693562  \n",
      "min      -1.000000     0.000000  \n",
      "25%      -1.000000     0.000000  \n",
      "50%      -1.000000     0.000000  \n",
      "75%      -1.000000     0.000000  \n",
      "max     871.000000    25.000000  \n",
      "   age            job  marital  education default  balance housing loan  \\\n",
      "0   30     unemployed  married    primary      no     1787      no   no   \n",
      "1   33       services  married  secondary      no     4789     yes  yes   \n",
      "2   35     management   single   tertiary      no     1350     yes   no   \n",
      "3   30     management  married   tertiary      no     1476     yes  yes   \n",
      "4   59    blue-collar  married  secondary      no        0     yes   no   \n",
      "5   35     management   single   tertiary      no      747      no   no   \n",
      "6   36  self-employed  married   tertiary      no      307     yes   no   \n",
      "7   39     technician  married  secondary      no      147     yes   no   \n",
      "8   41   entrepreneur  married   tertiary      no      221     yes   no   \n",
      "9   43       services  married    primary      no      -88     yes  yes   \n",
      "\n",
      "    contact  day month  duration  campaign  pdays  previous poutcome   y  \n",
      "0  cellular   19   oct        79         1     -1         0  unknown  no  \n",
      "1  cellular   11   may       220         1    339         4  failure  no  \n",
      "2  cellular   16   apr       185         1    330         1  failure  no  \n",
      "3   unknown    3   jun       199         4     -1         0  unknown  no  \n",
      "4   unknown    5   may       226         1     -1         0  unknown  no  \n",
      "5  cellular   23   feb       141         2    176         3  failure  no  \n",
      "6  cellular   14   may       341         1    330         2    other  no  \n",
      "7  cellular    6   may       151         2     -1         0  unknown  no  \n",
      "8   unknown   14   may        57         2     -1         0  unknown  no  \n",
      "9  cellular   17   apr       313         1    147         2  failure  no  \n"
     ]
    }
   ],
   "source": [
    "print(df.info())\n",
    "print(df.describe())\n",
    "print(df.head(10))\n",
    "\n",
    "\n",
    "df = df.dropna()\n",
    "\n",
    "\n",
    "label_encoders = {}\n",
    "for column in df.select_dtypes(include=['object']).columns:\n",
    "    le = LabelEncoder()\n",
    "    df[column] = le.fit_transform(df[column])\n",
    "    label_encoders[column] = le\n",
    "\n",
    "\n",
    "X = df.drop('y', axis=1)\n",
    "y = df['y']\n",
    "\n",
    "\n",
    "smote = SMOTE(random_state=42)\n",
    "X, y = smote.fit_resample(X, y)\n",
    "X_train, X_test, y_train, y_test = train_test_split(X, y, test_size=0.3, random_state=42)\n",
    "\n",
    "scaler = StandardScaler()\n",
    "X_train = scaler.fit_transform(X_train)\n",
    "X_test = scaler.transform(X_test)\n"
   ]
  },
  {
   "cell_type": "markdown",
   "metadata": {},
   "source": [
    "# Model Intialization and Tuning"
   ]
  },
  {
   "cell_type": "code",
   "execution_count": 29,
   "metadata": {},
   "outputs": [
    {
     "name": "stdout",
     "output_type": "stream",
     "text": [
      "\n",
      "Initial model performance (before tuning):\n",
      "Random Forest Accuracy before tuning: 0.9329\n",
      "Classification Report for Random Forest:\n",
      "              precision    recall  f1-score   support\n",
      "\n",
      "           0       0.95      0.92      0.93      1206\n",
      "           1       0.92      0.95      0.93      1194\n",
      "\n",
      "    accuracy                           0.93      2400\n",
      "   macro avg       0.93      0.93      0.93      2400\n",
      "weighted avg       0.93      0.93      0.93      2400\n",
      "\n",
      "------------------------------------------------------------\n",
      "Gradient Boosting Accuracy before tuning: 0.8879\n",
      "Classification Report for Gradient Boosting:\n",
      "              precision    recall  f1-score   support\n",
      "\n",
      "           0       0.90      0.88      0.89      1206\n",
      "           1       0.88      0.90      0.89      1194\n",
      "\n",
      "    accuracy                           0.89      2400\n",
      "   macro avg       0.89      0.89      0.89      2400\n",
      "weighted avg       0.89      0.89      0.89      2400\n",
      "\n",
      "------------------------------------------------------------\n"
     ]
    }
   ],
   "source": [
    "models = {\n",
    "    'Random Forest': RandomForestClassifier(),\n",
    "    'Gradient Boosting': GradientBoostingClassifier()\n",
    "}\n",
    "\n",
    "print(\"\\nInitial model performance (before tuning):\")\n",
    "initial_accuracies = {}\n",
    "for name, model in models.items():\n",
    "    model.fit(X_train, y_train)\n",
    "    y_pred = model.predict(X_test)\n",
    "    accuracy = accuracy_score(y_test, y_pred)\n",
    "    initial_accuracies[name] = accuracy\n",
    "    print(f\"{name} Accuracy before tuning: {accuracy:.4f}\")\n",
    "    print(f\"Classification Report for {name}:\")\n",
    "    print(classification_report(y_test, y_pred))\n",
    "    print(\"-\" * 60)\n",
    "\n"
   ]
  },
  {
   "cell_type": "markdown",
   "metadata": {},
   "source": [
    "# Hyperparameter Tuning"
   ]
  },
  {
   "cell_type": "code",
   "execution_count": 30,
   "metadata": {},
   "outputs": [
    {
     "name": "stdout",
     "output_type": "stream",
     "text": [
      "\n",
      "Tuning Random Forest...\n",
      "Best parameters for Random Forest: {'max_depth': 30, 'min_samples_split': 2, 'n_estimators': 200}\n",
      "\n",
      "Tuning Gradient Boosting...\n",
      "Best parameters for Gradient Boosting: {'learning_rate': 0.1, 'max_depth': 7, 'n_estimators': 200}\n"
     ]
    }
   ],
   "source": [
    "param_grids = {\n",
    "    'Random Forest': {\n",
    "        'n_estimators': [100, 200],\n",
    "        'max_depth': [10, 20, 30],\n",
    "        'min_samples_split': [2, 5, 10]\n",
    "    },\n",
    "    'Gradient Boosting': {\n",
    "        'n_estimators': [100, 200],\n",
    "        'learning_rate': [0.01, 0.1, 0.2],\n",
    "        'max_depth': [3, 5, 7]\n",
    "    }\n",
    "}\n",
    "\n",
    "best_models = {}\n",
    "for name, model in models.items():\n",
    "    print(f\"\\nTuning {name}...\")\n",
    "    grid_search = GridSearchCV(estimator=model, param_grid=param_grids[name], cv=5, n_jobs=-1, scoring='accuracy')\n",
    "    grid_search.fit(X_train, y_train)\n",
    "    best_models[name] = grid_search.best_estimator_\n",
    "    print(f\"Best parameters for {name}: {grid_search.best_params_}\")\n"
   ]
  },
  {
   "cell_type": "code",
   "execution_count": 31,
   "metadata": {},
   "outputs": [
    {
     "name": "stdout",
     "output_type": "stream",
     "text": [
      "\n",
      "Model performance after tuning:\n",
      "Random Forest Accuracy after tuning: 0.9337\n",
      "Classification Report for Random Forest:\n",
      "              precision    recall  f1-score   support\n",
      "\n",
      "           0       0.95      0.92      0.93      1206\n",
      "           1       0.92      0.95      0.93      1194\n",
      "\n",
      "    accuracy                           0.93      2400\n",
      "   macro avg       0.93      0.93      0.93      2400\n",
      "weighted avg       0.93      0.93      0.93      2400\n",
      "\n",
      "------------------------------------------------------------\n",
      "Gradient Boosting Accuracy after tuning: 0.9371\n",
      "Classification Report for Gradient Boosting:\n",
      "              precision    recall  f1-score   support\n",
      "\n",
      "           0       0.95      0.92      0.94      1206\n",
      "           1       0.92      0.96      0.94      1194\n",
      "\n",
      "    accuracy                           0.94      2400\n",
      "   macro avg       0.94      0.94      0.94      2400\n",
      "weighted avg       0.94      0.94      0.94      2400\n",
      "\n",
      "------------------------------------------------------------\n"
     ]
    }
   ],
   "source": [
    "print(\"\\nModel performance after tuning:\")\n",
    "final_accuracies = {}\n",
    "for name, model in best_models.items():\n",
    "    y_pred = model.predict(X_test)\n",
    "    accuracy = accuracy_score(y_test, y_pred)\n",
    "    final_accuracies[name] = accuracy\n",
    "    print(f\"{name} Accuracy after tuning: {accuracy:.4f}\")\n",
    "    print(f\"Classification Report for {name}:\")\n",
    "    print(classification_report(y_test, y_pred))\n",
    "    print(\"-\" * 60)\n"
   ]
  },
  {
   "cell_type": "code",
   "execution_count": 32,
   "metadata": {},
   "outputs": [
    {
     "name": "stdout",
     "output_type": "stream",
     "text": [
      "\n",
      "Best model selected for prediction: Gradient Boosting with Accuracy: 0.9371\n"
     ]
    }
   ],
   "source": [
    "best_model_name = max(final_accuracies, key=final_accuracies.get)\n",
    "best_model = best_models[best_model_name]\n",
    "print(f\"\\nBest model selected for prediction: {best_model_name} with Accuracy: {final_accuracies[best_model_name]:.4f}\")\n"
   ]
  },
  {
   "cell_type": "code",
   "execution_count": 33,
   "metadata": {},
   "outputs": [
    {
     "name": "stderr",
     "output_type": "stream",
     "text": [
      "/var/folders/1c/wgg3jchj1vnb_c49fv64srjm0000gn/T/ipykernel_57228/4101869309.py:8: FutureWarning: \n",
      "\n",
      "Passing `palette` without assigning `hue` is deprecated and will be removed in v0.14.0. Assign the `y` variable to `hue` and set `legend=False` for the same effect.\n",
      "\n",
      "  sns.barplot(x=importances[indices], y=feature_names[indices], palette=\"viridis\")\n"
     ]
    },
    {
     "data": {
      "image/png": "[encoded data removed]",
      "text/plain": [
       "<Figure size 1200x800 with 1 Axes>"
      ]
     },
     "metadata": {},
     "output_type": "display_data"
    }
   ],
   "source": [
    "if hasattr(best_model, 'feature_importances_'):\n",
    "    importances = best_model.feature_importances_\n",
    "    indices = np.argsort(importances)[::-1]\n",
    "    feature_names = np.array(df.columns[:-1])\n",
    "\n",
    "    plt.figure(figsize=(12, 8))\n",
    "    sns.barplot(x=importances[indices], y=feature_names[indices], palette=\"viridis\")\n",
    "    plt.title(f'{best_model_name} Feature Importance')\n",
    "    plt.xlabel('Relative Importance')\n",
    "    plt.ylabel('Features')\n",
    "    plt.show()\n"
   ]
  },
  {
   "cell_type": "markdown",
   "metadata": {},
   "source": [
    "# Model Evaluation"
   ]
  },
  {
   "cell_type": "code",
   "execution_count": 34,
   "metadata": {},
   "outputs": [
    {
     "name": "stdout",
     "output_type": "stream",
     "text": [
      "Classification Report:\n",
      "              precision    recall  f1-score   support\n",
      "\n",
      "           0       0.95      0.92      0.94      1206\n",
      "           1       0.92      0.96      0.94      1194\n",
      "\n",
      "    accuracy                           0.94      2400\n",
      "   macro avg       0.94      0.94      0.94      2400\n",
      "weighted avg       0.94      0.94      0.94      2400\n",
      "\n"
     ]
    },
    {
     "data": {
      "image/png": "[encoded data removed]",
      "text/plain": [
       "<Figure size 1200x800 with 2 Axes>"
      ]
     },
     "metadata": {},
     "output_type": "display_data"
    }
   ],
   "source": [
    "y_pred = best_model.predict(X_test)\n",
    "cm = confusion_matrix(y_test, y_pred)\n",
    "print(\"Classification Report:\")\n",
    "print(classification_report(y_test, y_pred))\n",
    "plt.figure(figsize=(12, 8))\n",
    "sns.heatmap(cm, annot=True, fmt='d', cmap='Blues')\n",
    "plt.xlabel('Predicted')\n",
    "plt.ylabel('Actual')\n",
    "plt.show()\n"
   ]
  },
  {
   "cell_type": "markdown",
   "metadata": {},
   "source": [
    "# Predicton - 1"
   ]
  },
  {
   "cell_type": "code",
   "execution_count": 35,
   "metadata": {},
   "outputs": [
    {
     "name": "stdout",
     "output_type": "stream",
     "text": [
      "Credit Worthy: Yes\n"
     ]
    }
   ],
   "source": [
    "new_data_dict = {\n",
    "    'age': 70,\n",
    "    'job': 'management',\n",
    "    'marital': 'divorced',\n",
    "    'education': 'primary',\n",
    "    'default': 'no',\n",
    "    'balance': 229,\n",
    "    'housing': 'no',\n",
    "    'loan': 'no',\n",
    "    'contact': 'telephone',\n",
    "    'day': 22,\n",
    "    'month': 'oct',\n",
    "    'duration': 300,\n",
    "    'campaign': 1,\n",
    "    'pdays': -1,\n",
    "    'previous': 0,\n",
    "    'poutcome': 'unknown'\n",
    "}\n",
    "\n",
    "new_data_df = pd.DataFrame([new_data_dict])\n",
    "\n",
    "\n",
    "for column, le in label_encoders.items():\n",
    "    if column in new_data_df.columns:\n",
    "        new_data_df[column] = le.transform(new_data_df[column])\n",
    "\n",
    "\n",
    "new_data_scaled = scaler.transform(new_data_df)\n",
    "\n",
    "\n",
    "prediction = best_model.predict(new_data_scaled)\n",
    "# print(f\"\\nPredicted Credit Score using {best_model_name}: {prediction[0]}\")\n",
    "print(\"Credit Worthy: Yes\" if prediction[0] == 1 else \"Credit Worthy: No\")"
   ]
  },
  {
   "cell_type": "markdown",
   "metadata": {},
   "source": [
    "# Prediction-2"
   ]
  },
  {
   "cell_type": "code",
   "execution_count": 36,
   "metadata": {},
   "outputs": [
    {
     "name": "stdout",
     "output_type": "stream",
     "text": [
      "Credit Worthy: Yes\n"
     ]
    }
   ],
   "source": [
    "\n",
    "new_data_dict = {\n",
    "    'age': 42,\n",
    "    'job': 'management',\n",
    "    'marital': 'divorced',\n",
    "    'education': 'primary',\n",
    "    'default': 'no',\n",
    "    'balance': 229,\n",
    "    'housing': 'no',\n",
    "    'loan': 'yes',\n",
    "    'contact': 'telephone',\n",
    "    'day': 10,\n",
    "    'month': 'oct',\n",
    "    'duration': 90,\n",
    "    'campaign': 1,\n",
    "    'pdays': -1,\n",
    "    'previous': 0,\n",
    "    'poutcome': 'unknown'\n",
    "}\n",
    "\n",
    "\n",
    "new_data_df = pd.DataFrame([new_data_dict])\n",
    "\n",
    "# Encoding the new data with the same label encoders used for the training data\n",
    "for column, le in label_encoders.items():\n",
    "    if column in new_data_df.columns:\n",
    "        new_data_df[column] = le.transform(new_data_df[column])\n",
    "\n",
    "\n",
    "new_data_scaled = scaler.transform(new_data_df)\n",
    "\n",
    "prediction = best_model.predict(new_data_scaled)\n",
    "# print(f\"\\nPredicted Credit Score using {best_model_name}: {prediction[0]}\")\n",
    "print(\"Credit Worthy: Yes\" if prediction[0] == 1 else \"Credit Worthy: No\")"
   ]
  }
 ],
 "metadata": {
  "kernelspec": {
   "display_name": "Python 3",
   "language": "python",
   "name": "python3"
  },
  "language_info": {
   "codemirror_mode": {
    "name": "ipython",
    "version": 3
   },
   "file_extension": ".py",
   "mimetype": "text/x-python",
   "name": "python",
   "nbconvert_exporter": "python",
   "pygments_lexer": "ipython3",
   "version": "3.8.19"
  }
 },
 "nbformat": 4,
 "nbformat_minor": 2
}
